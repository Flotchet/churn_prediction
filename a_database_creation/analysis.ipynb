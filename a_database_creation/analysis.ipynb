{
 "cells": [
  {
   "cell_type": "code",
   "execution_count": 3,
   "metadata": {},
   "outputs": [],
   "source": [
    "import numpy as np\n",
    "import pandas as pd\n",
    "import seaborn as sns\n",
    "import os\n",
    "\n",
    "df =pd.read_csv(r\"C:\\Users\\Augustin\\Downloads\\churn_prediction\\a_database_creation\\data\\BankChurners.csv\")"
   ]
  },
  {
   "attachments": {},
   "cell_type": "markdown",
   "metadata": {},
   "source": [
    "## Selecting relevant data"
   ]
  },
  {
   "cell_type": "code",
   "execution_count": 5,
   "metadata": {},
   "outputs": [
    {
     "data": {
      "text/plain": [
       "Attrition_Flag\n",
       "Existing Customer    8500\n",
       "Attrited Customer    1627\n",
       "dtype: int64"
      ]
     },
     "execution_count": 5,
     "metadata": {},
     "output_type": "execute_result"
    }
   ],
   "source": [
    "df.value_counts('Attrition_Flag')"
   ]
  },
  {
   "cell_type": "code",
   "execution_count": 16,
   "metadata": {},
   "outputs": [
    {
     "name": "stdout",
     "output_type": "stream",
     "text": [
      "       CLIENTNUM     Attrition_Flag  Customer_Age Gender  Dependent_count  \\\n",
      "21     708508758  Attrited Customer            62      F                0   \n",
      "39     708300483  Attrited Customer            66      F                0   \n",
      "51     779471883  Attrited Customer            54      F                1   \n",
      "54     714374133  Attrited Customer            56      M                2   \n",
      "61     712030833  Attrited Customer            48      M                2   \n",
      "...          ...                ...           ...    ...              ...   \n",
      "10119  716893683  Attrited Customer            55      F                3   \n",
      "10123  710638233  Attrited Customer            41      M                2   \n",
      "10124  716506083  Attrited Customer            44      F                1   \n",
      "10125  717406983  Attrited Customer            30      M                2   \n",
      "10126  714337233  Attrited Customer            43      F                2   \n",
      "\n",
      "      Education_Level Marital_Status Income_Category Card_Category  \\\n",
      "21           Graduate        Married  Less than $40K          Blue   \n",
      "39          Doctorate        Married         Unknown          Blue   \n",
      "51           Graduate        Married  Less than $40K          Blue   \n",
      "54           Graduate        Married         $120K +          Blue   \n",
      "61           Graduate        Married     $60K - $80K        Silver   \n",
      "...               ...            ...             ...           ...   \n",
      "10119      Uneducated         Single         Unknown          Blue   \n",
      "10123         Unknown       Divorced     $40K - $60K          Blue   \n",
      "10124     High School        Married  Less than $40K          Blue   \n",
      "10125        Graduate        Unknown     $40K - $60K          Blue   \n",
      "10126        Graduate        Married  Less than $40K        Silver   \n",
      "\n",
      "       Months_on_book  ...  Credit_Limit  Total_Revolving_Bal  \\\n",
      "21                 49  ...        1438.3                    0   \n",
      "39                 56  ...        7882.0                  605   \n",
      "51                 40  ...        1438.3                  808   \n",
      "54                 36  ...       15769.0                    0   \n",
      "61                 35  ...       34516.0                    0   \n",
      "...               ...  ...           ...                  ...   \n",
      "10119              47  ...       14657.0                 2517   \n",
      "10123              25  ...        4277.0                 2186   \n",
      "10124              36  ...        5409.0                    0   \n",
      "10125              36  ...        5281.0                    0   \n",
      "10126              25  ...       10388.0                 1961   \n",
      "\n",
      "       Avg_Open_To_Buy  Total_Amt_Chng_Q4_Q1  Total_Trans_Amt  Total_Trans_Ct  \\\n",
      "21              1438.3                 1.047              692              16   \n",
      "39              7277.0                 1.052              704              16   \n",
      "51               630.3                 0.997              705              19   \n",
      "54             15769.0                 1.041              602              15   \n",
      "61             34516.0                 0.763              691              15   \n",
      "...                ...                   ...              ...             ...   \n",
      "10119          12140.0                 0.166             6009              53   \n",
      "10123           2091.0                 0.804             8764              69   \n",
      "10124           5409.0                 0.819            10291              60   \n",
      "10125           5281.0                 0.535             8395              62   \n",
      "10126           8427.0                 0.703            10294              61   \n",
      "\n",
      "       Total_Ct_Chng_Q4_Q1  Avg_Utilization_Ratio  \\\n",
      "21                   0.600                  0.000   \n",
      "39                   0.143                  0.077   \n",
      "51                   0.900                  0.562   \n",
      "54                   0.364                  0.000   \n",
      "61                   0.500                  0.000   \n",
      "...                    ...                    ...   \n",
      "10119                0.514                  0.172   \n",
      "10123                0.683                  0.511   \n",
      "10124                0.818                  0.000   \n",
      "10125                0.722                  0.000   \n",
      "10126                0.649                  0.189   \n",
      "\n",
      "       Naive_Bayes_Classifier_Attrition_Flag_Card_Category_Contacts_Count_12_mon_Dependent_count_Education_Level_Months_Inactive_12_mon_1  \\\n",
      "21                                               0.99616                                                                                    \n",
      "39                                               0.99780                                                                                    \n",
      "51                                               0.99028                                                                                    \n",
      "54                                               0.99671                                                                                    \n",
      "61                                               0.99823                                                                                    \n",
      "...                                                  ...                                                                                    \n",
      "10119                                            0.99691                                                                                    \n",
      "10123                                            0.99527                                                                                    \n",
      "10124                                            0.99788                                                                                    \n",
      "10125                                            0.99671                                                                                    \n",
      "10126                                            0.99662                                                                                    \n",
      "\n",
      "       Naive_Bayes_Classifier_Attrition_Flag_Card_Category_Contacts_Count_12_mon_Dependent_count_Education_Level_Months_Inactive_12_mon_2  \n",
      "21                                              0.003836                                                                                   \n",
      "39                                              0.002197                                                                                   \n",
      "51                                              0.009720                                                                                   \n",
      "54                                              0.003294                                                                                   \n",
      "61                                              0.001771                                                                                   \n",
      "...                                                  ...                                                                                   \n",
      "10119                                           0.003088                                                                                   \n",
      "10123                                           0.004729                                                                                   \n",
      "10124                                           0.002118                                                                                   \n",
      "10125                                           0.003294                                                                                   \n",
      "10126                                           0.003377                                                                                   \n",
      "\n",
      "[1627 rows x 23 columns]\n"
     ]
    }
   ],
   "source": [
    "mask = df['Attrition_Flag']=='Attrited Customer'\n",
    "df1 = df[mask]\n",
    "print (df1)"
   ]
  }
 ],
 "metadata": {
  "kernelspec": {
   "display_name": "Python 3",
   "language": "python",
   "name": "python3"
  },
  "language_info": {
   "codemirror_mode": {
    "name": "ipython",
    "version": 3
   },
   "file_extension": ".py",
   "mimetype": "text/x-python",
   "name": "python",
   "nbconvert_exporter": "python",
   "pygments_lexer": "ipython3",
   "version": "3.11.1"
  },
  "orig_nbformat": 4,
  "vscode": {
   "interpreter": {
    "hash": "9b671cd3297ce6de26db2f8fd5e971e20d876a82d9da5776a1d4f9c2f2b55539"
   }
  }
 },
 "nbformat": 4,
 "nbformat_minor": 2
}
